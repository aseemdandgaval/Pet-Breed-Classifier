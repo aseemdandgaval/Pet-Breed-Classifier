{
  "nbformat": 4,
  "nbformat_minor": 0,
  "metadata": {
    "colab": {
      "name": "et Breed Classifier.ipynb",
      "provenance": [],
      "collapsed_sections": []
    },
    "kernelspec": {
      "name": "python3",
      "display_name": "Python 3"
    },
    "language_info": {
      "name": "python"
    }
  },
  "cells": [
    {
      "cell_type": "markdown",
      "metadata": {
        "id": "wL06H-tOxGqc"
      },
      "source": [
        "# **The Pet Breed Classifier**"
      ]
    },
    {
      "cell_type": "markdown",
      "metadata": {
        "id": "rd8TIHBSxNwM"
      },
      "source": [
        "* This is a Deep Learning Model which will classify between 37 breeds of cats and dogs.\n",
        "* It may not give senisble answers for breeds other than the ones included in the model.\n",
        "* The breeds this model can classify are:\n",
        "    *"
      ]
    },
    {
      "cell_type": "code",
      "metadata": {
        "id": "nhhFkgq3wp6z"
      },
      "source": [
        "from fastai.vision.all import *\n",
        "from fastai.vision.widgets import *"
      ],
      "execution_count": null,
      "outputs": []
    },
    {
      "cell_type": "code",
      "metadata": {
        "id": "75PnctWmyoxW"
      },
      "source": [
        "path = Path()\n",
        "learn_inf = load_learner(path/'Pet_Breed_Classifier.pkl', cpu=True)\n",
        "btn_upload = widgets.FileUpload()\n",
        "out_pl = widgets.Output()\n",
        "lbl_pred = widgets.Label()"
      ],
      "execution_count": null,
      "outputs": []
    },
    {
      "cell_type": "code",
      "metadata": {
        "id": "5MTWnD8oyzhz"
      },
      "source": [
        "def on_data_change(change):\n",
        "    lbl_pred.value = ''\n",
        "    img = PILImage.create(btn_upload.data[-1])\n",
        "    out_pl.clear_output()\n",
        "    with out_pl: display(img.to_thumb(128,128))\n",
        "    pred,pred_idx,probs = learn_inf.predict(img)\n",
        "    lbl_pred.value = f'Prediction: {pred}; Probability: {probs[pred_idx]:.04f}'"
      ],
      "execution_count": null,
      "outputs": []
    },
    {
      "cell_type": "code",
      "metadata": {
        "id": "Wq9LiZKSy1Xo"
      },
      "source": [
        "btn_upload.observe(on_data_change, names=['data'])"
      ],
      "execution_count": null,
      "outputs": []
    },
    {
      "cell_type": "code",
      "metadata": {
        "id": "lI4oylb3y2zN"
      },
      "source": [
        "display(VBox([widgets.Label('Select your breed!'), btn_upload, out_pl, lbl_pred]))"
      ],
      "execution_count": null,
      "outputs": []
    }
  ]
}